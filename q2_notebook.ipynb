{
 "cells": [
  {
   "cell_type": "code",
   "execution_count": 1,
   "metadata": {},
   "outputs": [],
   "source": [
    "import pandas as pd"
   ]
  },
  {
   "cell_type": "code",
   "execution_count": 2,
   "metadata": {},
   "outputs": [
    {
     "name": "stderr",
     "output_type": "stream",
     "text": [
      "C:\\Users\\Holden\\AppData\\Local\\Temp\\ipykernel_21820\\137737204.py:1: DtypeWarning: Columns (1) have mixed types. Specify dtype option on import or set low_memory=False.\n",
      "  df = pd.read_csv('data/202302 BIE Technical Interview PLD2.csv')\n"
     ]
    }
   ],
   "source": [
    "df = pd.read_csv('data/202302 BIE Technical Interview PLD2.csv')"
   ]
  },
  {
   "cell_type": "code",
   "execution_count": 3,
   "metadata": {},
   "outputs": [
    {
     "data": {
      "text/html": [
       "<div>\n",
       "<style scoped>\n",
       "    .dataframe tbody tr th:only-of-type {\n",
       "        vertical-align: middle;\n",
       "    }\n",
       "\n",
       "    .dataframe tbody tr th {\n",
       "        vertical-align: top;\n",
       "    }\n",
       "\n",
       "    .dataframe thead th {\n",
       "        text-align: right;\n",
       "    }\n",
       "</style>\n",
       "<table border=\"1\" class=\"dataframe\">\n",
       "  <thead>\n",
       "    <tr style=\"text-align: right;\">\n",
       "      <th></th>\n",
       "      <th>shipmonth</th>\n",
       "      <th>shippingzipcode</th>\n",
       "    </tr>\n",
       "  </thead>\n",
       "  <tbody>\n",
       "    <tr>\n",
       "      <th>0</th>\n",
       "      <td>2</td>\n",
       "      <td>77201ASS</td>\n",
       "    </tr>\n",
       "    <tr>\n",
       "      <th>1</th>\n",
       "      <td>2</td>\n",
       "      <td>77201</td>\n",
       "    </tr>\n",
       "    <tr>\n",
       "      <th>2</th>\n",
       "      <td>2</td>\n",
       "      <td>77201</td>\n",
       "    </tr>\n",
       "    <tr>\n",
       "      <th>3</th>\n",
       "      <td>2</td>\n",
       "      <td>77201</td>\n",
       "    </tr>\n",
       "    <tr>\n",
       "      <th>4</th>\n",
       "      <td>2</td>\n",
       "      <td>77201</td>\n",
       "    </tr>\n",
       "  </tbody>\n",
       "</table>\n",
       "</div>"
      ],
      "text/plain": [
       "   shipmonth shippingzipcode\n",
       "0          2        77201ASS\n",
       "1          2           77201\n",
       "2          2           77201\n",
       "3          2           77201\n",
       "4          2           77201"
      ]
     },
     "execution_count": 3,
     "metadata": {},
     "output_type": "execute_result"
    }
   ],
   "source": [
    "df.head()"
   ]
  },
  {
   "cell_type": "code",
   "execution_count": 180,
   "metadata": {},
   "outputs": [],
   "source": [
    "from pyspark.sql import SparkSession\n",
    "from pyspark.sql import SQLContext\n",
    "from pyspark.sql.types import StructType, StructField, StringType, IntegerType, VarcharType\n",
    "import os\n",
    "from pyspark.sql.functions import sum, count, countDistinct\n",
    "\n",
    "\n",
    "spark = SparkSession.builder \\\n",
    "    .appName('ETL Pipeline') \\\n",
    "    .getOrCreate()\n",
    "# Define schema\n",
    "schema = StructType([\n",
    "    StructField('shipmonth', IntegerType(), True),\n",
    "    StructField('shippingzipcode', VarcharType(10), True)\n",
    "])\n",
    "\n",
    "file_path = 'data/202302 BIE Technical Interview PLD2.csv'\n",
    "\n",
    "file_ext = os.path.splitext(file_path)[1].lower()\n",
    "\n",
    "file_format = {\n",
    "    '.csv': 'csv',\n",
    "    '.json': 'json',\n",
    "    '.parquet': 'parquet',\n",
    "    '.xlsx': 'com.crealytics.spark.excel'\n",
    "}.get(file_ext, None)\n",
    "\n",
    "if not file_format:\n",
    "    raise ValueError('Unsupported file format.')\n",
    "\n",
    "# Read the file into a Spark dataframe\n",
    "df = spark.read \\\n",
    "    .option('header', 'true') \\\n",
    "    .option('inferSchema', 'true') \\\n",
    "    .format(file_format) \\\n",
    "    .load(file_path)\n",
    "\n",
    "expected_columns = set([field.name for field in schema.fields])\n",
    "actual_columns = set(df.columns)\n",
    "\n",
    "assert schema.fields[0].dataType == IntegerType(), 'Column \"shipmonth\" contains an invalid datatype'\n",
    "\n",
    "# Validate the loaded DataFrame against the expected schema\n",
    "\n",
    "assert expected_columns.issubset(actual_columns), 'The file does not contain the expected columns.'\n"
   ]
  },
  {
   "cell_type": "code",
   "execution_count": 181,
   "metadata": {},
   "outputs": [],
   "source": [
    "# transform\n",
    "grouped_df = df.groupBy(\"shipmonth\").agg(\n",
    "    count(\"shippingzipcode\").alias(\"total_shippings\"),\n",
    "    countDistinct(\"shippingzipcode\").alias(\"total_zipcodes\")\n",
    ")"
   ]
  },
  {
   "cell_type": "code",
   "execution_count": null,
   "metadata": {},
   "outputs": [],
   "source": [
    "sfOptions = {\n",
    "    \"sfURL\": \"<your_snowflake_account>.snowflakecomputing.com\",\n",
    "    \"sfUser\": \"<your_snowflake_username>\",\n",
    "    \"sfPassword\": \"<your_snowflake_password>\",\n",
    "    \"sfDatabase\": \"<your_snowflake_database>\",\n",
    "    \"sfSchema\": \"<your_snowflake_schema>\",\n",
    "    \"sfWarehouse\": \"<your_snowflake_warehouse>\",\n",
    "    \"sfRole\": \"<your_snowflake_role>\"\n",
    "}"
   ]
  },
  {
   "cell_type": "code",
   "execution_count": 182,
   "metadata": {},
   "outputs": [
    {
     "name": "stdout",
     "output_type": "stream",
     "text": [
      "+---------+---------------+--------------+\n",
      "|shipmonth|total_shippings|total_zipcodes|\n",
      "+---------+---------------+--------------+\n",
      "|        3|         728660|         15908|\n",
      "|        2|         602902|         15370|\n",
      "+---------+---------------+--------------+\n",
      "\n"
     ]
    }
   ],
   "source": [
    "grouped_df.show()"
   ]
  },
  {
   "cell_type": "code",
   "execution_count": 183,
   "metadata": {},
   "outputs": [
    {
     "ename": "ModuleNotFoundError",
     "evalue": "No module named 'net'",
     "output_type": "error",
     "traceback": [
      "\u001b[1;31m---------------------------------------------------------------------------\u001b[0m",
      "\u001b[1;31mModuleNotFoundError\u001b[0m                       Traceback (most recent call last)",
      "Cell \u001b[1;32mIn[183], line 1\u001b[0m\n\u001b[1;32m----> 1\u001b[0m \u001b[39mimport\u001b[39;00m \u001b[39mnet\u001b[39;00m\u001b[39m.\u001b[39;00m\u001b[39msnowflake\u001b[39;00m\u001b[39m.\u001b[39;00m\u001b[39mspark\u001b[39;00m\u001b[39m.\u001b[39;00m\u001b[39msnowflake\u001b[39;00m\u001b[39m.\u001b[39;00m\u001b[39mUtils\u001b[39;00m\u001b[39m.\u001b[39;00m\u001b[39mSNOWFLAKE_SOURCE_NAME\u001b[39;00m\n",
      "\u001b[1;31mModuleNotFoundError\u001b[0m: No module named 'net'"
     ]
    }
   ],
   "source": [
    "import net.snowflake.spark.snowflake.Utils.SNOWFLAKE_SOURCE_NAME"
   ]
  },
  {
   "cell_type": "code",
   "execution_count": 184,
   "metadata": {},
   "outputs": [],
   "source": [
    "import snowflake.connector"
   ]
  },
  {
   "cell_type": "code",
   "execution_count": 205,
   "metadata": {},
   "outputs": [],
   "source": [
    "PASSWORD = os.getenv('SNOWSQL_PWD')\n",
    "WAREHOUSE = os.getenv('WAREHOUSE')\n",
    "ACCOUNT = os.getenv('ACCOUNT')"
   ]
  },
  {
   "cell_type": "code",
   "execution_count": 200,
   "metadata": {},
   "outputs": [],
   "source": [
    "os.environ[\"SNOWSQL_PWD\"] = '8WMkq9bUX3!'"
   ]
  },
  {
   "cell_type": "code",
   "execution_count": 203,
   "metadata": {},
   "outputs": [],
   "source": [
    "os.environ[\"WAREHOUSE\"] = 'COMPUTE_WH'"
   ]
  },
  {
   "cell_type": "code",
   "execution_count": 204,
   "metadata": {},
   "outputs": [],
   "source": [
    "os.environ[\"ACCOUNT\"] = 'byb28753'"
   ]
  },
  {
   "cell_type": "code",
   "execution_count": 207,
   "metadata": {},
   "outputs": [
    {
     "name": "stdout",
     "output_type": "stream",
     "text": [
      "byb28753\n"
     ]
    }
   ],
   "source": [
    "print(ACCOUNT)"
   ]
  },
  {
   "cell_type": "code",
   "execution_count": 206,
   "metadata": {},
   "outputs": [
    {
     "ename": "ForbiddenError",
     "evalue": "250001 (08001): Failed to connect to DB. Verify the account name is correct: byb28753.snowflakecomputing.com:443. 000403: HTTP 403: Forbidden",
     "output_type": "error",
     "traceback": [
      "\u001b[1;31m---------------------------------------------------------------------------\u001b[0m",
      "\u001b[1;31mRetryRequest\u001b[0m                              Traceback (most recent call last)",
      "File \u001b[1;32me:\\Code\\CSInterview\\.venv\\Lib\\site-packages\\snowflake\\connector\\network.py:857\u001b[0m, in \u001b[0;36mSnowflakeRestful._request_exec_wrapper\u001b[1;34m(self, session, method, full_url, headers, data, retry_ctx, no_retry, token, **kwargs)\u001b[0m\n\u001b[0;32m    856\u001b[0m \u001b[39mtry\u001b[39;00m:\n\u001b[1;32m--> 857\u001b[0m     return_object \u001b[39m=\u001b[39m \u001b[39mself\u001b[39;49m\u001b[39m.\u001b[39;49m_request_exec(\n\u001b[0;32m    858\u001b[0m         session\u001b[39m=\u001b[39;49msession,\n\u001b[0;32m    859\u001b[0m         method\u001b[39m=\u001b[39;49mmethod,\n\u001b[0;32m    860\u001b[0m         full_url\u001b[39m=\u001b[39;49mfull_url,\n\u001b[0;32m    861\u001b[0m         headers\u001b[39m=\u001b[39;49mheaders,\n\u001b[0;32m    862\u001b[0m         data\u001b[39m=\u001b[39;49mdata,\n\u001b[0;32m    863\u001b[0m         token\u001b[39m=\u001b[39;49mtoken,\n\u001b[0;32m    864\u001b[0m         \u001b[39m*\u001b[39;49m\u001b[39m*\u001b[39;49mkwargs,\n\u001b[0;32m    865\u001b[0m     )\n\u001b[0;32m    866\u001b[0m     \u001b[39mif\u001b[39;00m return_object \u001b[39mis\u001b[39;00m \u001b[39mnot\u001b[39;00m \u001b[39mNone\u001b[39;00m:\n",
      "File \u001b[1;32me:\\Code\\CSInterview\\.venv\\Lib\\site-packages\\snowflake\\connector\\network.py:1131\u001b[0m, in \u001b[0;36mSnowflakeRestful._request_exec\u001b[1;34m(self, session, method, full_url, headers, data, token, catch_okta_unauthorized_error, is_raw_text, is_raw_binary, binary_data_handler, socket_timeout)\u001b[0m\n\u001b[0;32m   1122\u001b[0m TelemetryService\u001b[39m.\u001b[39mget_instance()\u001b[39m.\u001b[39mlog_http_request_error(\n\u001b[0;32m   1123\u001b[0m     \u001b[39m\"\u001b[39m\u001b[39mHttpException\u001b[39m\u001b[39m%s\u001b[39;00m\u001b[39m\"\u001b[39m \u001b[39m%\u001b[39m \u001b[39mstr\u001b[39m(err),\n\u001b[0;32m   1124\u001b[0m     full_url,\n\u001b[1;32m   (...)\u001b[0m\n\u001b[0;32m   1129\u001b[0m     stack_trace\u001b[39m=\u001b[39mtraceback\u001b[39m.\u001b[39mformat_exc(),\n\u001b[0;32m   1130\u001b[0m )\n\u001b[1;32m-> 1131\u001b[0m \u001b[39mraise\u001b[39;00m err\n",
      "File \u001b[1;32me:\\Code\\CSInterview\\.venv\\Lib\\site-packages\\snowflake\\connector\\network.py:1062\u001b[0m, in \u001b[0;36mSnowflakeRestful._request_exec\u001b[1;34m(self, session, method, full_url, headers, data, token, catch_okta_unauthorized_error, is_raw_text, is_raw_binary, binary_data_handler, socket_timeout)\u001b[0m\n\u001b[0;32m   1061\u001b[0m     \u001b[39m# retryable server exceptions\u001b[39;00m\n\u001b[1;32m-> 1062\u001b[0m     \u001b[39mraise\u001b[39;00m RetryRequest(error)\n\u001b[0;32m   1064\u001b[0m \u001b[39melif\u001b[39;00m (\n\u001b[0;32m   1065\u001b[0m     raw_ret\u001b[39m.\u001b[39mstatus_code \u001b[39m==\u001b[39m UNAUTHORIZED\n\u001b[0;32m   1066\u001b[0m     \u001b[39mand\u001b[39;00m catch_okta_unauthorized_error\n\u001b[0;32m   1067\u001b[0m ):\n\u001b[0;32m   1068\u001b[0m     \u001b[39m# OKTA Unauthorized errors\u001b[39;00m\n",
      "\u001b[1;31mRetryRequest\u001b[0m: 000403: HTTP 403: Forbidden",
      "\nDuring handling of the above exception, another exception occurred:\n",
      "\u001b[1;31mForbiddenError\u001b[0m                            Traceback (most recent call last)",
      "File \u001b[1;32me:\\Code\\CSInterview\\.venv\\Lib\\site-packages\\snowflake\\connector\\auth\\_auth.py:250\u001b[0m, in \u001b[0;36mAuth.authenticate\u001b[1;34m(self, auth_instance, account, user, database, schema, warehouse, role, passcode, passcode_in_password, mfa_callback, password_callback, session_parameters, timeout)\u001b[0m\n\u001b[0;32m    249\u001b[0m \u001b[39mtry\u001b[39;00m:\n\u001b[1;32m--> 250\u001b[0m     ret \u001b[39m=\u001b[39m \u001b[39mself\u001b[39;49m\u001b[39m.\u001b[39;49m_rest\u001b[39m.\u001b[39;49m_post_request(\n\u001b[0;32m    251\u001b[0m         url,\n\u001b[0;32m    252\u001b[0m         headers,\n\u001b[0;32m    253\u001b[0m         json\u001b[39m.\u001b[39;49mdumps(body),\n\u001b[0;32m    254\u001b[0m         timeout\u001b[39m=\u001b[39;49mauth_timeout,\n\u001b[0;32m    255\u001b[0m         socket_timeout\u001b[39m=\u001b[39;49mauth_timeout,\n\u001b[0;32m    256\u001b[0m     )\n\u001b[0;32m    257\u001b[0m \u001b[39mexcept\u001b[39;00m ForbiddenError \u001b[39mas\u001b[39;00m err:\n\u001b[0;32m    258\u001b[0m     \u001b[39m# HTTP 403\u001b[39;00m\n",
      "File \u001b[1;32me:\\Code\\CSInterview\\.venv\\Lib\\site-packages\\snowflake\\connector\\network.py:716\u001b[0m, in \u001b[0;36mSnowflakeRestful._post_request\u001b[1;34m(self, url, headers, body, token, timeout, _no_results, no_retry, socket_timeout, _include_retry_params)\u001b[0m\n\u001b[0;32m    714\u001b[0m     pprint(ret)\n\u001b[1;32m--> 716\u001b[0m ret \u001b[39m=\u001b[39m \u001b[39mself\u001b[39;49m\u001b[39m.\u001b[39;49mfetch(\n\u001b[0;32m    717\u001b[0m     \u001b[39m\"\u001b[39;49m\u001b[39mpost\u001b[39;49m\u001b[39m\"\u001b[39;49m,\n\u001b[0;32m    718\u001b[0m     full_url,\n\u001b[0;32m    719\u001b[0m     headers,\n\u001b[0;32m    720\u001b[0m     data\u001b[39m=\u001b[39;49mbody,\n\u001b[0;32m    721\u001b[0m     timeout\u001b[39m=\u001b[39;49mtimeout,\n\u001b[0;32m    722\u001b[0m     token\u001b[39m=\u001b[39;49mtoken,\n\u001b[0;32m    723\u001b[0m     no_retry\u001b[39m=\u001b[39;49mno_retry,\n\u001b[0;32m    724\u001b[0m     socket_timeout\u001b[39m=\u001b[39;49msocket_timeout,\n\u001b[0;32m    725\u001b[0m     _include_retry_params\u001b[39m=\u001b[39;49m_include_retry_params,\n\u001b[0;32m    726\u001b[0m )\n\u001b[0;32m    727\u001b[0m logger\u001b[39m.\u001b[39mdebug(\n\u001b[0;32m    728\u001b[0m     \u001b[39m\"\u001b[39m\u001b[39mret[code] = \u001b[39m\u001b[39m{code}\u001b[39;00m\u001b[39m, after post request\u001b[39m\u001b[39m\"\u001b[39m\u001b[39m.\u001b[39mformat(\n\u001b[0;32m    729\u001b[0m         code\u001b[39m=\u001b[39m(ret\u001b[39m.\u001b[39mget(\u001b[39m\"\u001b[39m\u001b[39mcode\u001b[39m\u001b[39m\"\u001b[39m, \u001b[39m\"\u001b[39m\u001b[39mN/A\u001b[39m\u001b[39m\"\u001b[39m))\n\u001b[0;32m    730\u001b[0m     )\n\u001b[0;32m    731\u001b[0m )\n",
      "File \u001b[1;32me:\\Code\\CSInterview\\.venv\\Lib\\site-packages\\snowflake\\connector\\network.py:814\u001b[0m, in \u001b[0;36mSnowflakeRestful.fetch\u001b[1;34m(self, method, full_url, headers, data, timeout, **kwargs)\u001b[0m\n\u001b[0;32m    813\u001b[0m \u001b[39mwhile\u001b[39;00m \u001b[39mTrue\u001b[39;00m:\n\u001b[1;32m--> 814\u001b[0m     ret \u001b[39m=\u001b[39m \u001b[39mself\u001b[39;49m\u001b[39m.\u001b[39;49m_request_exec_wrapper(\n\u001b[0;32m    815\u001b[0m         session, method, full_url, headers, data, retry_ctx, \u001b[39m*\u001b[39;49m\u001b[39m*\u001b[39;49mkwargs\n\u001b[0;32m    816\u001b[0m     )\n\u001b[0;32m    817\u001b[0m     \u001b[39mif\u001b[39;00m ret \u001b[39mis\u001b[39;00m \u001b[39mnot\u001b[39;00m \u001b[39mNone\u001b[39;00m:\n",
      "File \u001b[1;32me:\\Code\\CSInterview\\.venv\\Lib\\site-packages\\snowflake\\connector\\network.py:910\u001b[0m, in \u001b[0;36mSnowflakeRestful._request_exec_wrapper\u001b[1;34m(self, session, method, full_url, headers, data, retry_ctx, no_retry, token, **kwargs)\u001b[0m\n\u001b[0;32m    909\u001b[0m \u001b[39mif\u001b[39;00m retry_ctx\u001b[39m.\u001b[39mtimeout \u001b[39m<\u001b[39m\u001b[39m=\u001b[39m \u001b[39m0\u001b[39m:\n\u001b[1;32m--> 910\u001b[0m     \u001b[39mself\u001b[39;49m\u001b[39m.\u001b[39;49mlog_and_handle_http_error_with_cause(\n\u001b[0;32m    911\u001b[0m         e,\n\u001b[0;32m    912\u001b[0m         full_url,\n\u001b[0;32m    913\u001b[0m         method,\n\u001b[0;32m    914\u001b[0m         retry_ctx\u001b[39m.\u001b[39;49mtotal_timeout,\n\u001b[0;32m    915\u001b[0m         retry_ctx\u001b[39m.\u001b[39;49mcnt,\n\u001b[0;32m    916\u001b[0m         conn,\n\u001b[0;32m    917\u001b[0m     )\n\u001b[0;32m    918\u001b[0m     \u001b[39mreturn\u001b[39;00m {}  \u001b[39m# required for tests\u001b[39;00m\n",
      "File \u001b[1;32me:\\Code\\CSInterview\\.venv\\Lib\\site-packages\\snowflake\\connector\\network.py:965\u001b[0m, in \u001b[0;36mSnowflakeRestful.log_and_handle_http_error_with_cause\u001b[1;34m(self, e, full_url, method, retry_timeout, retry_count, conn, timed_out)\u001b[0m\n\u001b[0;32m    964\u001b[0m \u001b[39mif\u001b[39;00m \u001b[39misinstance\u001b[39m(cause, Error):\n\u001b[1;32m--> 965\u001b[0m     Error\u001b[39m.\u001b[39;49merrorhandler_wrapper_from_cause(conn, cause)\n\u001b[0;32m    966\u001b[0m \u001b[39melse\u001b[39;00m:\n",
      "File \u001b[1;32me:\\Code\\CSInterview\\.venv\\Lib\\site-packages\\snowflake\\connector\\errors.py:255\u001b[0m, in \u001b[0;36mError.errorhandler_wrapper_from_cause\u001b[1;34m(connection, cause, cursor)\u001b[0m\n\u001b[0;32m    240\u001b[0m \u001b[39m\u001b[39m\u001b[39m\"\"\"Wrapper for errorhandler_wrapper, it is called with a cause instead of a dictionary.\u001b[39;00m\n\u001b[0;32m    241\u001b[0m \n\u001b[0;32m    242\u001b[0m \u001b[39mThe dictionary is first extracted from the cause and then it's given to errorhandler_wrapper\u001b[39;00m\n\u001b[1;32m   (...)\u001b[0m\n\u001b[0;32m    253\u001b[0m \u001b[39m    A Snowflake error if connection and cursor are None.\u001b[39;00m\n\u001b[0;32m    254\u001b[0m \u001b[39m\"\"\"\u001b[39;00m\n\u001b[1;32m--> 255\u001b[0m \u001b[39mreturn\u001b[39;00m Error\u001b[39m.\u001b[39;49merrorhandler_wrapper(\n\u001b[0;32m    256\u001b[0m     connection,\n\u001b[0;32m    257\u001b[0m     cursor,\n\u001b[0;32m    258\u001b[0m     \u001b[39mtype\u001b[39;49m(cause),\n\u001b[0;32m    259\u001b[0m     {\n\u001b[0;32m    260\u001b[0m         \u001b[39m\"\u001b[39;49m\u001b[39mmsg\u001b[39;49m\u001b[39m\"\u001b[39;49m: cause\u001b[39m.\u001b[39;49mmsg,\n\u001b[0;32m    261\u001b[0m         \u001b[39m\"\u001b[39;49m\u001b[39merrno\u001b[39;49m\u001b[39m\"\u001b[39;49m: cause\u001b[39m.\u001b[39;49merrno,\n\u001b[0;32m    262\u001b[0m         \u001b[39m\"\u001b[39;49m\u001b[39msqlstate\u001b[39;49m\u001b[39m\"\u001b[39;49m: cause\u001b[39m.\u001b[39;49msqlstate,\n\u001b[0;32m    263\u001b[0m         \u001b[39m\"\u001b[39;49m\u001b[39mdone_format_msg\u001b[39;49m\u001b[39m\"\u001b[39;49m: \u001b[39mTrue\u001b[39;49;00m,\n\u001b[0;32m    264\u001b[0m     },\n\u001b[0;32m    265\u001b[0m )\n",
      "File \u001b[1;32me:\\Code\\CSInterview\\.venv\\Lib\\site-packages\\snowflake\\connector\\errors.py:290\u001b[0m, in \u001b[0;36mError.errorhandler_wrapper\u001b[1;34m(connection, cursor, error_class, error_value)\u001b[0m\n\u001b[0;32m    274\u001b[0m \u001b[39m\u001b[39m\u001b[39m\"\"\"Error handler wrapper that calls the errorhandler method.\u001b[39;00m\n\u001b[0;32m    275\u001b[0m \n\u001b[0;32m    276\u001b[0m \u001b[39mArgs:\u001b[39;00m\n\u001b[1;32m   (...)\u001b[0m\n\u001b[0;32m    287\u001b[0m \u001b[39m    exception to the first handler in that order.\u001b[39;00m\n\u001b[0;32m    288\u001b[0m \u001b[39m\"\"\"\u001b[39;00m\n\u001b[1;32m--> 290\u001b[0m handed_over \u001b[39m=\u001b[39m Error\u001b[39m.\u001b[39;49mhand_to_other_handler(\n\u001b[0;32m    291\u001b[0m     connection,\n\u001b[0;32m    292\u001b[0m     cursor,\n\u001b[0;32m    293\u001b[0m     error_class,\n\u001b[0;32m    294\u001b[0m     error_value,\n\u001b[0;32m    295\u001b[0m )\n\u001b[0;32m    296\u001b[0m \u001b[39mif\u001b[39;00m \u001b[39mnot\u001b[39;00m handed_over:\n",
      "File \u001b[1;32me:\\Code\\CSInterview\\.venv\\Lib\\site-packages\\snowflake\\connector\\errors.py:348\u001b[0m, in \u001b[0;36mError.hand_to_other_handler\u001b[1;34m(connection, cursor, error_class, error_value)\u001b[0m\n\u001b[0;32m    347\u001b[0m \u001b[39melif\u001b[39;00m connection \u001b[39mis\u001b[39;00m \u001b[39mnot\u001b[39;00m \u001b[39mNone\u001b[39;00m:\n\u001b[1;32m--> 348\u001b[0m     connection\u001b[39m.\u001b[39;49merrorhandler(connection, cursor, error_class, error_value)\n\u001b[0;32m    349\u001b[0m     \u001b[39mreturn\u001b[39;00m \u001b[39mTrue\u001b[39;00m\n",
      "File \u001b[1;32me:\\Code\\CSInterview\\.venv\\Lib\\site-packages\\snowflake\\connector\\errors.py:221\u001b[0m, in \u001b[0;36mError.default_errorhandler\u001b[1;34m(connection, cursor, error_class, error_value)\u001b[0m\n\u001b[0;32m    220\u001b[0m done_format_msg \u001b[39m=\u001b[39m error_value\u001b[39m.\u001b[39mget(\u001b[39m\"\u001b[39m\u001b[39mdone_format_msg\u001b[39m\u001b[39m\"\u001b[39m)\n\u001b[1;32m--> 221\u001b[0m \u001b[39mraise\u001b[39;00m error_class(\n\u001b[0;32m    222\u001b[0m     msg\u001b[39m=\u001b[39merror_value\u001b[39m.\u001b[39mget(\u001b[39m\"\u001b[39m\u001b[39mmsg\u001b[39m\u001b[39m\"\u001b[39m),\n\u001b[0;32m    223\u001b[0m     errno\u001b[39m=\u001b[39m\u001b[39mNone\u001b[39;00m \u001b[39mif\u001b[39;00m errno \u001b[39mis\u001b[39;00m \u001b[39mNone\u001b[39;00m \u001b[39melse\u001b[39;00m \u001b[39mint\u001b[39m(errno),\n\u001b[0;32m    224\u001b[0m     sqlstate\u001b[39m=\u001b[39merror_value\u001b[39m.\u001b[39mget(\u001b[39m\"\u001b[39m\u001b[39msqlstate\u001b[39m\u001b[39m\"\u001b[39m),\n\u001b[0;32m    225\u001b[0m     sfqid\u001b[39m=\u001b[39merror_value\u001b[39m.\u001b[39mget(\u001b[39m\"\u001b[39m\u001b[39msfqid\u001b[39m\u001b[39m\"\u001b[39m),\n\u001b[0;32m    226\u001b[0m     query\u001b[39m=\u001b[39merror_value\u001b[39m.\u001b[39mget(\u001b[39m\"\u001b[39m\u001b[39mquery\u001b[39m\u001b[39m\"\u001b[39m),\n\u001b[0;32m    227\u001b[0m     done_format_msg\u001b[39m=\u001b[39m(\n\u001b[0;32m    228\u001b[0m         \u001b[39mNone\u001b[39;00m \u001b[39mif\u001b[39;00m done_format_msg \u001b[39mis\u001b[39;00m \u001b[39mNone\u001b[39;00m \u001b[39melse\u001b[39;00m \u001b[39mbool\u001b[39m(done_format_msg)\n\u001b[0;32m    229\u001b[0m     ),\n\u001b[0;32m    230\u001b[0m     connection\u001b[39m=\u001b[39mconnection,\n\u001b[0;32m    231\u001b[0m     cursor\u001b[39m=\u001b[39mcursor,\n\u001b[0;32m    232\u001b[0m )\n",
      "\u001b[1;31mForbiddenError\u001b[0m: 000403: HTTP 403: Forbidden",
      "\nDuring handling of the above exception, another exception occurred:\n",
      "\u001b[1;31mForbiddenError\u001b[0m                            Traceback (most recent call last)",
      "Cell \u001b[1;32mIn[206], line 1\u001b[0m\n\u001b[1;32m----> 1\u001b[0m conn \u001b[39m=\u001b[39m snowflake\u001b[39m.\u001b[39;49mconnector\u001b[39m.\u001b[39;49mconnect(\n\u001b[0;32m      2\u001b[0m     user\u001b[39m=\u001b[39;49m\u001b[39m'\u001b[39;49m\u001b[39mholdenms\u001b[39;49m\u001b[39m'\u001b[39;49m,\n\u001b[0;32m      3\u001b[0m     password\u001b[39m=\u001b[39;49mPASSWORD,\n\u001b[0;32m      4\u001b[0m     account\u001b[39m=\u001b[39;49mACCOUNT,\n\u001b[0;32m      5\u001b[0m     warehouse\u001b[39m=\u001b[39;49mWAREHOUSE,\n\u001b[0;32m      6\u001b[0m     database\u001b[39m=\u001b[39;49m\u001b[39m'\u001b[39;49m\u001b[39mDEV_RAW\u001b[39;49m\u001b[39m'\u001b[39;49m,\n\u001b[0;32m      7\u001b[0m     schema\u001b[39m=\u001b[39;49m\u001b[39m'\u001b[39;49m\u001b[39mPUBLIC\u001b[39;49m\u001b[39m'\u001b[39;49m\n\u001b[0;32m      8\u001b[0m     )\n",
      "File \u001b[1;32me:\\Code\\CSInterview\\.venv\\Lib\\site-packages\\snowflake\\connector\\__init__.py:51\u001b[0m, in \u001b[0;36mConnect\u001b[1;34m(**kwargs)\u001b[0m\n\u001b[0;32m     50\u001b[0m \u001b[39mdef\u001b[39;00m \u001b[39mConnect\u001b[39m(\u001b[39m*\u001b[39m\u001b[39m*\u001b[39mkwargs) \u001b[39m-\u001b[39m\u001b[39m>\u001b[39m SnowflakeConnection:\n\u001b[1;32m---> 51\u001b[0m     \u001b[39mreturn\u001b[39;00m SnowflakeConnection(\u001b[39m*\u001b[39;49m\u001b[39m*\u001b[39;49mkwargs)\n",
      "File \u001b[1;32me:\\Code\\CSInterview\\.venv\\Lib\\site-packages\\snowflake\\connector\\connection.py:304\u001b[0m, in \u001b[0;36mSnowflakeConnection.__init__\u001b[1;34m(self, **kwargs)\u001b[0m\n\u001b[0;32m    302\u001b[0m \u001b[39mself\u001b[39m\u001b[39m.\u001b[39mconverter \u001b[39m=\u001b[39m \u001b[39mNone\u001b[39;00m\n\u001b[0;32m    303\u001b[0m \u001b[39mself\u001b[39m\u001b[39m.\u001b[39m__set_error_attributes()\n\u001b[1;32m--> 304\u001b[0m \u001b[39mself\u001b[39;49m\u001b[39m.\u001b[39;49mconnect(\u001b[39m*\u001b[39;49m\u001b[39m*\u001b[39;49mkwargs)\n\u001b[0;32m    305\u001b[0m \u001b[39mself\u001b[39m\u001b[39m.\u001b[39m_telemetry \u001b[39m=\u001b[39m TelemetryClient(\u001b[39mself\u001b[39m\u001b[39m.\u001b[39m_rest)\n\u001b[0;32m    307\u001b[0m \u001b[39m# get the imported modules from sys.modules\u001b[39;00m\n",
      "File \u001b[1;32me:\\Code\\CSInterview\\.venv\\Lib\\site-packages\\snowflake\\connector\\connection.py:571\u001b[0m, in \u001b[0;36mSnowflakeConnection.connect\u001b[1;34m(self, **kwargs)\u001b[0m\n\u001b[0;32m    569\u001b[0m         connection_diag\u001b[39m.\u001b[39mgenerate_report()\n\u001b[0;32m    570\u001b[0m \u001b[39melse\u001b[39;00m:\n\u001b[1;32m--> 571\u001b[0m     \u001b[39mself\u001b[39;49m\u001b[39m.\u001b[39;49m__open_connection()\n",
      "File \u001b[1;32me:\\Code\\CSInterview\\.venv\\Lib\\site-packages\\snowflake\\connector\\connection.py:839\u001b[0m, in \u001b[0;36mSnowflakeConnection.__open_connection\u001b[1;34m(self)\u001b[0m\n\u001b[0;32m    835\u001b[0m \u001b[39melse\u001b[39;00m:\n\u001b[0;32m    836\u001b[0m     \u001b[39m# okta URL, e.g., https://<account>.okta.com/\u001b[39;00m\n\u001b[0;32m    837\u001b[0m     \u001b[39mself\u001b[39m\u001b[39m.\u001b[39mauth_class \u001b[39m=\u001b[39m AuthByOkta(application\u001b[39m=\u001b[39m\u001b[39mself\u001b[39m\u001b[39m.\u001b[39mapplication)\n\u001b[1;32m--> 839\u001b[0m \u001b[39mself\u001b[39;49m\u001b[39m.\u001b[39;49mauthenticate_with_retry(\u001b[39mself\u001b[39;49m\u001b[39m.\u001b[39;49mauth_class)\n\u001b[0;32m    841\u001b[0m \u001b[39mself\u001b[39m\u001b[39m.\u001b[39m_password \u001b[39m=\u001b[39m \u001b[39mNone\u001b[39;00m  \u001b[39m# ensure password won't persist\u001b[39;00m\n\u001b[0;32m    842\u001b[0m \u001b[39mself\u001b[39m\u001b[39m.\u001b[39mauth_class\u001b[39m.\u001b[39mreset_secrets()\n",
      "File \u001b[1;32me:\\Code\\CSInterview\\.venv\\Lib\\site-packages\\snowflake\\connector\\connection.py:1099\u001b[0m, in \u001b[0;36mSnowflakeConnection.authenticate_with_retry\u001b[1;34m(self, auth_instance)\u001b[0m\n\u001b[0;32m   1096\u001b[0m \u001b[39mdef\u001b[39;00m \u001b[39mauthenticate_with_retry\u001b[39m(\u001b[39mself\u001b[39m, auth_instance) \u001b[39m-\u001b[39m\u001b[39m>\u001b[39m \u001b[39mNone\u001b[39;00m:\n\u001b[0;32m   1097\u001b[0m     \u001b[39m# make some changes if needed before real __authenticate\u001b[39;00m\n\u001b[0;32m   1098\u001b[0m     \u001b[39mtry\u001b[39;00m:\n\u001b[1;32m-> 1099\u001b[0m         \u001b[39mself\u001b[39;49m\u001b[39m.\u001b[39;49m_authenticate(auth_instance)\n\u001b[0;32m   1100\u001b[0m     \u001b[39mexcept\u001b[39;00m ReauthenticationRequest \u001b[39mas\u001b[39;00m ex:\n\u001b[0;32m   1101\u001b[0m         \u001b[39m# cached id_token expiration error, we have cleaned id_token and try to authenticate again\u001b[39;00m\n\u001b[0;32m   1102\u001b[0m         logger\u001b[39m.\u001b[39mdebug(\u001b[39m\"\u001b[39m\u001b[39mID token expired. Reauthenticating...: \u001b[39m\u001b[39m%s\u001b[39;00m\u001b[39m\"\u001b[39m, ex)\n",
      "File \u001b[1;32me:\\Code\\CSInterview\\.venv\\Lib\\site-packages\\snowflake\\connector\\connection.py:1125\u001b[0m, in \u001b[0;36mSnowflakeConnection._authenticate\u001b[1;34m(self, auth_instance)\u001b[0m\n\u001b[0;32m   1123\u001b[0m auth \u001b[39m=\u001b[39m Auth(\u001b[39mself\u001b[39m\u001b[39m.\u001b[39mrest)\n\u001b[0;32m   1124\u001b[0m \u001b[39mtry\u001b[39;00m:\n\u001b[1;32m-> 1125\u001b[0m     auth\u001b[39m.\u001b[39;49mauthenticate(\n\u001b[0;32m   1126\u001b[0m         auth_instance\u001b[39m=\u001b[39;49mauth_instance,\n\u001b[0;32m   1127\u001b[0m         account\u001b[39m=\u001b[39;49m\u001b[39mself\u001b[39;49m\u001b[39m.\u001b[39;49maccount,\n\u001b[0;32m   1128\u001b[0m         user\u001b[39m=\u001b[39;49m\u001b[39mself\u001b[39;49m\u001b[39m.\u001b[39;49muser,\n\u001b[0;32m   1129\u001b[0m         database\u001b[39m=\u001b[39;49m\u001b[39mself\u001b[39;49m\u001b[39m.\u001b[39;49mdatabase,\n\u001b[0;32m   1130\u001b[0m         schema\u001b[39m=\u001b[39;49m\u001b[39mself\u001b[39;49m\u001b[39m.\u001b[39;49mschema,\n\u001b[0;32m   1131\u001b[0m         warehouse\u001b[39m=\u001b[39;49m\u001b[39mself\u001b[39;49m\u001b[39m.\u001b[39;49mwarehouse,\n\u001b[0;32m   1132\u001b[0m         role\u001b[39m=\u001b[39;49m\u001b[39mself\u001b[39;49m\u001b[39m.\u001b[39;49mrole,\n\u001b[0;32m   1133\u001b[0m         passcode\u001b[39m=\u001b[39;49m\u001b[39mself\u001b[39;49m\u001b[39m.\u001b[39;49m_passcode,\n\u001b[0;32m   1134\u001b[0m         passcode_in_password\u001b[39m=\u001b[39;49m\u001b[39mself\u001b[39;49m\u001b[39m.\u001b[39;49m_passcode_in_password,\n\u001b[0;32m   1135\u001b[0m         mfa_callback\u001b[39m=\u001b[39;49m\u001b[39mself\u001b[39;49m\u001b[39m.\u001b[39;49m_mfa_callback,\n\u001b[0;32m   1136\u001b[0m         password_callback\u001b[39m=\u001b[39;49m\u001b[39mself\u001b[39;49m\u001b[39m.\u001b[39;49m_password_callback,\n\u001b[0;32m   1137\u001b[0m         session_parameters\u001b[39m=\u001b[39;49m\u001b[39mself\u001b[39;49m\u001b[39m.\u001b[39;49m_session_parameters,\n\u001b[0;32m   1138\u001b[0m     )\n\u001b[0;32m   1139\u001b[0m \u001b[39mexcept\u001b[39;00m OperationalError \u001b[39mas\u001b[39;00m e:\n\u001b[0;32m   1140\u001b[0m     logger\u001b[39m.\u001b[39mdebug(\n\u001b[0;32m   1141\u001b[0m         \u001b[39m\"\u001b[39m\u001b[39mOperational Error raised at authentication\u001b[39m\u001b[39m\"\u001b[39m\n\u001b[0;32m   1142\u001b[0m         \u001b[39mf\u001b[39m\u001b[39m\"\u001b[39m\u001b[39mfor authenticator: \u001b[39m\u001b[39m{\u001b[39;00m\u001b[39mtype\u001b[39m(auth_instance)\u001b[39m.\u001b[39m\u001b[39m__name__\u001b[39m\u001b[39m}\u001b[39;00m\u001b[39m\"\u001b[39m\n\u001b[0;32m   1143\u001b[0m     )\n",
      "File \u001b[1;32me:\\Code\\CSInterview\\.venv\\Lib\\site-packages\\snowflake\\connector\\auth\\_auth.py:259\u001b[0m, in \u001b[0;36mAuth.authenticate\u001b[1;34m(self, auth_instance, account, user, database, schema, warehouse, role, passcode, passcode_in_password, mfa_callback, password_callback, session_parameters, timeout)\u001b[0m\n\u001b[0;32m    250\u001b[0m     ret \u001b[39m=\u001b[39m \u001b[39mself\u001b[39m\u001b[39m.\u001b[39m_rest\u001b[39m.\u001b[39m_post_request(\n\u001b[0;32m    251\u001b[0m         url,\n\u001b[0;32m    252\u001b[0m         headers,\n\u001b[1;32m   (...)\u001b[0m\n\u001b[0;32m    255\u001b[0m         socket_timeout\u001b[39m=\u001b[39mauth_timeout,\n\u001b[0;32m    256\u001b[0m     )\n\u001b[0;32m    257\u001b[0m \u001b[39mexcept\u001b[39;00m ForbiddenError \u001b[39mas\u001b[39;00m err:\n\u001b[0;32m    258\u001b[0m     \u001b[39m# HTTP 403\u001b[39;00m\n\u001b[1;32m--> 259\u001b[0m     \u001b[39mraise\u001b[39;00m err\u001b[39m.\u001b[39m\u001b[39m__class__\u001b[39m(\n\u001b[0;32m    260\u001b[0m         msg\u001b[39m=\u001b[39m(\n\u001b[0;32m    261\u001b[0m             \u001b[39m\"\u001b[39m\u001b[39mFailed to connect to DB. \u001b[39m\u001b[39m\"\u001b[39m\n\u001b[0;32m    262\u001b[0m             \u001b[39m\"\u001b[39m\u001b[39mVerify the account name is correct: \u001b[39m\u001b[39m{host}\u001b[39;00m\u001b[39m:\u001b[39m\u001b[39m{port}\u001b[39;00m\u001b[39m. \u001b[39m\u001b[39m\"\u001b[39m\n\u001b[0;32m    263\u001b[0m             \u001b[39m\"\u001b[39m\u001b[39m{message}\u001b[39;00m\u001b[39m\"\u001b[39m\n\u001b[0;32m    264\u001b[0m         )\u001b[39m.\u001b[39mformat(\n\u001b[0;32m    265\u001b[0m             host\u001b[39m=\u001b[39m\u001b[39mself\u001b[39m\u001b[39m.\u001b[39m_rest\u001b[39m.\u001b[39m_host, port\u001b[39m=\u001b[39m\u001b[39mself\u001b[39m\u001b[39m.\u001b[39m_rest\u001b[39m.\u001b[39m_port, message\u001b[39m=\u001b[39m\u001b[39mstr\u001b[39m(err)\n\u001b[0;32m    266\u001b[0m         ),\n\u001b[0;32m    267\u001b[0m         errno\u001b[39m=\u001b[39mER_FAILED_TO_CONNECT_TO_DB,\n\u001b[0;32m    268\u001b[0m         sqlstate\u001b[39m=\u001b[39mSQLSTATE_CONNECTION_WAS_NOT_ESTABLISHED,\n\u001b[0;32m    269\u001b[0m     )\n\u001b[0;32m    270\u001b[0m \u001b[39mexcept\u001b[39;00m (ServiceUnavailableError, BadGatewayError) \u001b[39mas\u001b[39;00m err:\n\u001b[0;32m    271\u001b[0m     \u001b[39m# HTTP 502/504\u001b[39;00m\n\u001b[0;32m    272\u001b[0m     \u001b[39mraise\u001b[39;00m err\u001b[39m.\u001b[39m\u001b[39m__class__\u001b[39m(\n\u001b[0;32m    273\u001b[0m         msg\u001b[39m=\u001b[39m(\n\u001b[0;32m    274\u001b[0m             \u001b[39m\"\u001b[39m\u001b[39mFailed to connect to DB. \u001b[39m\u001b[39m\"\u001b[39m\n\u001b[1;32m   (...)\u001b[0m\n\u001b[0;32m    281\u001b[0m         sqlstate\u001b[39m=\u001b[39mSQLSTATE_CONNECTION_WAS_NOT_ESTABLISHED,\n\u001b[0;32m    282\u001b[0m     )\n",
      "\u001b[1;31mForbiddenError\u001b[0m: 250001 (08001): Failed to connect to DB. Verify the account name is correct: byb28753.snowflakecomputing.com:443. 000403: HTTP 403: Forbidden"
     ]
    }
   ],
   "source": [
    "conn = snowflake.connector.connect(\n",
    "    user='holdenms',\n",
    "    password=PASSWORD,\n",
    "    account=ACCOUNT,\n",
    "    warehouse=WAREHOUSE,\n",
    "    database='DEV_RAW',\n",
    "    schema='PUBLIC'\n",
    "    )"
   ]
  },
  {
   "cell_type": "code",
   "execution_count": null,
   "metadata": {},
   "outputs": [],
   "source": []
  }
 ],
 "metadata": {
  "kernelspec": {
   "display_name": ".venv",
   "language": "python",
   "name": "python3"
  },
  "language_info": {
   "codemirror_mode": {
    "name": "ipython",
    "version": 3
   },
   "file_extension": ".py",
   "mimetype": "text/x-python",
   "name": "python",
   "nbconvert_exporter": "python",
   "pygments_lexer": "ipython3",
   "version": "3.11.2"
  },
  "orig_nbformat": 4
 },
 "nbformat": 4,
 "nbformat_minor": 2
}
